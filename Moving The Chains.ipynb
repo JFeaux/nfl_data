{
 "metadata": {
  "name": "",
  "signature": "sha256:5267d969b9c5fb0023f279fbc0f17045c3f29c33d7d58c807c9f3bc969bc3b5a"
 },
 "nbformat": 3,
 "nbformat_minor": 0,
 "worksheets": [
  {
   "cells": [
    {
     "cell_type": "code",
     "collapsed": false,
     "input": [
      "import numpy as np\n",
      "import pandas as pd \n",
      "\n",
      "years = ['20{}'.format(i) for i in range(14, 17)]\n",
      "seasons= {}\n",
      "for year in years:\n",
      "    seasons[int(year)] = pd.read_csv('pbp-{}.csv'.format(year))"
     ],
     "language": "python",
     "metadata": {},
     "outputs": [],
     "prompt_number": 2
    },
    {
     "cell_type": "code",
     "collapsed": false,
     "input": [
      "# which teams are best at moving the chains\n",
      "# Calculate 1st + 2nd and 3rd down conversation rate\n",
      "# calculate avg yards to go on 3rd down \n",
      "sea16 = seasons[2016]\n",
      "\n",
      "first_or_second = sea16[(sea16.Down == 1) | (sea16.Down == 2)]\n",
      "first_or_second = first_or_second[first_or_second.IsNoPlay == 0]\n",
      "third = sea16[(sea16.Down == 3) & (sea16.IsNoPlay == 0)]\n",
      "\n",
      "early_conversion = first_or_second.groupby('OffenseTeam', sort=True)['SeriesFirstDown'].sum()\n",
      "third_conversion = third.groupby('OffenseTeam', sort=True)['SeriesFirstDown'].sum()\n",
      "\n",
      "early_rate = (early_conversion / \n",
      "                first_or_second.\n",
      "                 groupby('OffenseTeam', sort=True)['Description'].count())\n",
      "\n",
      "third_rate = (third_conversion / \n",
      "                third.\n",
      "                 groupby('OffenseTeam', sort=True)['Description'].count())\n",
      "\n",
      "\n",
      "avg_to_go = sea16[(sea16.Down == 3)].groupby('OffenseTeam', sort=True)['ToGo'].mean()\n"
     ],
     "language": "python",
     "metadata": {},
     "outputs": [],
     "prompt_number": 3
    },
    {
     "cell_type": "code",
     "collapsed": false,
     "input": [
      "# Print outliers\n",
      "print third_rate.sort_values().head(1)\n",
      "print third_rate.sort_values().tail(1)\n",
      "print early_rate.sort_values().head(1)\n",
      "print early_rate.sort_values().tail(1)\n",
      "print avg_to_go.sort_values().head(1)\n",
      "print avg_to_go.sort_values().tail(1)"
     ],
     "language": "python",
     "metadata": {},
     "outputs": [
      {
       "output_type": "stream",
       "stream": "stdout",
       "text": [
        "OffenseTeam\n",
        "LA    0.311628\n",
        "dtype: float64\n",
        "OffenseTeam\n",
        "NO    0.481982\n",
        "dtype: float64\n",
        "OffenseTeam\n",
        "LA    0.198347\n",
        "dtype: float64\n",
        "OffenseTeam\n",
        "ATL    0.322981\n",
        "dtype: float64\n",
        "OffenseTeam\n",
        "WAS    6.331776\n",
        "Name: ToGo, dtype: float64\n",
        "OffenseTeam\n",
        "CLE    8.403433\n",
        "Name: ToGo, dtype: float64\n"
       ]
      }
     ],
     "prompt_number": 5
    },
    {
     "cell_type": "code",
     "collapsed": false,
     "input": [
      "from scipy.stats import linregress\n",
      "\n",
      "fit1 = linregress(avg_to_go, third_rate)\n",
      "fit2 = linregress(early_rate, third_rate)\n",
      "\n",
      "x1 = np.linspace(0,15,30)\n",
      "y1 = fit1[0] * x1 + fit1[1]\n",
      "\n",
      "x2 = np.linspace(0, 1, 30)\n",
      "y2 = fit2[0] * x2 + fit2[1]\n",
      "\n",
      "\n",
      "\n",
      "\n",
      "\n",
      "\n"
     ],
     "language": "python",
     "metadata": {},
     "outputs": [],
     "prompt_number": 6
    },
    {
     "cell_type": "code",
     "collapsed": false,
     "input": [
      "from matplotlib import pyplot as plt\n",
      "import qwikplot\n",
      "%matplotlib inline\n",
      "\n",
      "# Plot 1\n",
      "\n",
      "qwikplot.set_style()\n",
      "\n",
      "plt.plot(avg_to_go, third_rate, 'bo')\n",
      "plt.plot(x1, y1,'k--',label=r'$\\mathbf{r^2}$' + ' = {}'.\n",
      "         format(round(fit1[2]**2,2)))\n",
      "\n",
      "tmp = lambda x: (plt.text(avg_to_go[x], \n",
      "                          third_rate[x] + 0.015 * third_rate[x], \n",
      "                          x, color='k',fontsize=12))\n",
      "tmp('CLE')\n",
      "tmp('WAS')\n",
      "tmp('NO')\n",
      "tmp('LA')\n",
      "\n",
      "plt.xlabel('Average yards to go on 3rd down', fontsize=14)\n",
      "plt.ylabel('3rd down conversion rate', fontsize=14)\n",
      "plt.xlim(6, 9)\n",
      "plt.ylim(.275, .5)\n",
      "\n",
      "plt.legend(frameon=False, fontsize=14)\n",
      "plt.show()"
     ],
     "language": "python",
     "metadata": {},
     "outputs": [
      {
       "metadata": {},
       "output_type": "display_data",
       "png": "[encoded data removed]",
       "text": [
        "<matplotlib.figure.Figure at 0x7f3789f8d390>"
       ]
      }
     ],
     "prompt_number": 17
    },
    {
     "cell_type": "code",
     "collapsed": false,
     "input": [
      "qwikplot.set_style()\n",
      "\n",
      "plt.plot(early_rate, third_rate, 'bo')\n",
      "plt.plot(x2, y2,'k--',label=r'$\\mathbf{r^2}$' + ' = {}'.\n",
      "         format(round(fit2[2]**2,2)))\n",
      "\n",
      "tmp = lambda x: (plt.text(early_rate[x], \n",
      "                          third_rate[x] + 0.015 * third_rate[x], \n",
      "                          x, color='k',fontsize=12))\n",
      "tmp('LA')\n",
      "tmp('ATL')\n",
      "tmp('NO')\n",
      "\n",
      "plt.xlabel('Early conversion rate', fontsize=14)\n",
      "plt.ylabel('3rd down conversion rate', fontsize=14)\n",
      "plt.xlim(0.175, 0.35)\n",
      "plt.ylim(.275, .5)\n",
      "\n",
      "plt.legend(loc=4, frameon=False, fontsize=14)\n",
      "plt.show()"
     ],
     "language": "python",
     "metadata": {},
     "outputs": [
      {
       "metadata": {},
       "output_type": "display_data",
       "png": "[encoded data removed]",
       "text": [
        "<matplotlib.figure.Figure at 0x7f3760a0d7d0>"
       ]
      }
     ],
     "prompt_number": 26
    },
    {
     "cell_type": "code",
     "collapsed": false,
     "input": [],
     "language": "python",
     "metadata": {},
     "outputs": []
    }
   ],
   "metadata": {}
  }
 ]
}