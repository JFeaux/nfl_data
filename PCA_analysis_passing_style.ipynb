{
 "cells": [
  {
   "cell_type": "code",
   "execution_count": 1,
   "metadata": {},
   "outputs": [],
   "source": [
    "import sys\n",
    "import pandas as pd\n",
    "import numpy as np\n",
    "import matplotlib.pyplot as plt\n",
    "from sklearn.decomposition import PCA\n"
   ]
  },
  {
   "cell_type": "code",
   "execution_count": 2,
   "metadata": {},
   "outputs": [
    {
     "name": "stderr",
     "output_type": "stream",
     "text": [
      "/usr/local/lib/python2.7/dist-packages/IPython/core/interactiveshell.py:2718: DtypeWarning: Columns (25) have mixed types. Specify dtype option on import or set low_memory=False.\n",
      "  interactivity=interactivity, compiler=compiler, result=result)\n",
      "/usr/local/lib/python2.7/dist-packages/IPython/core/interactiveshell.py:2718: DtypeWarning: Columns (25,51) have mixed types. Specify dtype option on import or set low_memory=False.\n",
      "  interactivity=interactivity, compiler=compiler, result=result)\n"
     ]
    }
   ],
   "source": [
    "# Load the Data 2014 - 2016\n",
    "pbp_data_path = '../nflscrapR-data-master/data/season_play_by_play'\n",
    "years = ['20{}'.format(i + 14) for i in range(3)]\n",
    "\n",
    "dfs = {}\n",
    "for year in years:\n",
    "    dfs[year] = pd.read_csv(pbp_data_path + '/pbp_{}.csv'.format(year), \n",
    "                            error_bad_lines=False)\n",
    "    # Rename columns\n",
    "    dfs[year] = dfs[year].rename(columns={\"Accepted.Penalty\": \"AcceptedPenalty\",\n",
    "                            \"Penalty.Yards\": \"PenaltyYards\",\n",
    "                            \"Yards.Gained\": \"YardsGained\",\n",
    "                            \"Challenge.Replay\": \"ChallengeReplay\"})\n",
    "\n",
    "# Combined all data into 1 DataFrame\n",
    "df = pd.concat(dfs)\n",
    "del dfs"
   ]
  },
  {
   "cell_type": "code",
   "execution_count": 3,
   "metadata": {},
   "outputs": [],
   "source": [
    "# Define Useful Variables\n",
    "team_ids = list(np.genfromtxt('team_ids.in', dtype='str'))\n",
    "yd_bins = np.arange(-100, 101, 1)"
   ]
  },
  {
   "cell_type": "code",
   "execution_count": 4,
   "metadata": {},
   "outputs": [],
   "source": [
    "# Filter Data \n",
    "# Only Passing plays without sacks\n",
    "play_filter = (df.PassOutcome == 'Complete') | (df.PassOutcome == 'Incomplete')\n",
    "filtered_data = df[play_filter]\n"
   ]
  },
  {
   "cell_type": "code",
   "execution_count": 5,
   "metadata": {},
   "outputs": [],
   "source": [
    "# Passing Totals\n",
    "passing_totals = filtered_data.groupby('posteam').agg({'YardsGained' : 'sum'})\n",
    "passing_totals = passing_totals.reset_index()\n",
    "\n",
    "# Index to sort \n",
    "idx = passing_totals['YardsGained'].argsort().values\n"
   ]
  },
  {
   "cell_type": "code",
   "execution_count": 6,
   "metadata": {},
   "outputs": [],
   "source": [
    "# Build distributions for each team \n",
    "# Distance of throw in air on all pass attempts\n",
    "distributions = np.zeros((32, len(yd_bins) - 1))\n",
    "for i, team in enumerate(team_ids):\n",
    "        \n",
    "    single_team = filtered_data[(filtered_data.posteam == team) \n",
    "                          & (filtered_data.AcceptedPenalty == 0)]\n",
    "    \n",
    "    \n",
    "    # Yards ball was in air\n",
    "    all_plays = plt.hist(single_team.AirYards, bins=yd_bins)\n",
    "    total_plays = single_team.PlayAttempted.count()\n",
    "    \n",
    "    # Normalized histogram for each team\n",
    "    distributions[i, :] = all_plays[0] / total_plays"
   ]
  },
  {
   "cell_type": "code",
   "execution_count": 7,
   "metadata": {},
   "outputs": [
    {
     "data": {
      "text/plain": [
       "PCA(copy=True, iterated_power='auto', n_components=None, random_state=None,\n",
       "  svd_solver='auto', tol=0.0, whiten=False)"
      ]
     },
     "execution_count": 7,
     "metadata": {},
     "output_type": "execute_result"
    }
   ],
   "source": [
    "# Mean distribution\n",
    "mean_distribution = np.mean(distributions, axis=0)\n",
    "\n",
    "pca = PCA()\n",
    "pca.fit(distributions)"
   ]
  },
  {
   "cell_type": "code",
   "execution_count": 8,
   "metadata": {
    "scrolled": true
   },
   "outputs": [
    {
     "name": "stdout",
     "output_type": "stream",
     "text": [
      "[  2.79289563e-01   1.89769649e-01   9.59269417e-02   6.70221472e-02\n",
      "   6.23077431e-02   5.72754028e-02   4.51651811e-02   3.57190978e-02\n",
      "   2.92123026e-02   2.58354181e-02   2.07122523e-02   1.51015221e-02\n",
      "   1.12595718e-02   1.08122788e-02   9.69293623e-03   7.77298017e-03\n",
      "   6.41901384e-03   5.22244931e-03   4.99338779e-03   4.65519104e-03\n",
      "   2.98711159e-03   2.64088551e-03   2.34369932e-03   2.12628043e-03\n",
      "   1.50375240e-03   1.42241735e-03   8.27008810e-04   6.45595394e-04\n",
      "   5.71413116e-04   5.30333384e-04   2.36472614e-04   5.50801544e-32]\n"
     ]
    }
   ],
   "source": [
    "# See breakdown of PCA components\n",
    "print pca.explained_variance_ratio_"
   ]
  },
  {
   "cell_type": "code",
   "execution_count": 9,
   "metadata": {},
   "outputs": [],
   "source": [
    "# Calculate PCA coefficients\n",
    "pca_coefficients = np.zeros((32, 32))\n",
    "test = np.zeros((32, 32))\n",
    "B = distributions - mean_distribution\n",
    "for i in range(32):\n",
    "    for j in range(32):\n",
    "        pca_coefficients[i, j] = np.dot(pca.components_[i], B[j,:])\n"
   ]
  },
  {
   "cell_type": "code",
   "execution_count": 10,
   "metadata": {},
   "outputs": [],
   "source": [
    "# Plot of First 2 PCA Components\n",
    "n = 2\n",
    "\n",
    "plt.figure(figsize=(6, 9))\n",
    "\n",
    "plt.subplot(211)\n",
    "plt.title('PCA Analysis of passing attempts', fontsize=18)\n",
    "plt.plot(yd_bins[:-1], mean_distribution, 'k--',linewidth=2, label='Mean Distribution')\n",
    "plt.xlim([-20, 20])\n",
    "plt.yticks(np.arange(0, .1, 0.01))\n",
    "plt.legend(frameon=False, loc=2)\n",
    "plt.subplot(212)\n",
    "for i in range(n):\n",
    "    plt.plot(yd_bins[:-1], pca.components_[i], label='Component: {}'.format(i + 1), linewidth=2)\n",
    "plt.xlim([-20, 20])\n",
    "plt.legend(frameon=False,loc=2)\n",
    "plt.xlabel('Yards in the air', fontsize=12, labelpad=8)\n",
    "plt.tight_layout()\n",
    "\n",
    "plt.savefig('pca1.pdf')\n"
   ]
  },
  {
   "cell_type": "code",
   "execution_count": 11,
   "metadata": {},
   "outputs": [],
   "source": [
    "# Plot PCA coefficents of teams\n",
    "coeff_num = 0\n",
    "coeffs = pca_coefficients[coeff_num,:][idx]\n",
    "\n",
    "plt.figure(figsize=(9.25, 9.25))\n",
    "\n",
    "min_val = min(coeffs)\n",
    "max_val = max(coeffs)\n",
    "bins = np.arange(-.07, .07, .02)\n",
    "\n",
    "plt.subplot(221)\n",
    "n = 10\n",
    "width = .9 * (bins[1] - bins[0])\n",
    "plt.hist(coeffs[:n], bins=bins, color='g', label='{} worst passing teams'.format(n), width=width)\n",
    "plt.ylabel('Number of Teams', fontsize=14, labelpad=8)\n",
    "plt.yticks(np.arange(0, 9, 1))\n",
    "plt.legend(frameon=False, loc=2)\n",
    "plt.subplot(223)\n",
    "plt.hist(coeffs[32-n:], bins=bins, color='b', label='{} best passing teams'.format(n), width=width)\n",
    "plt.yticks(np.arange(0, 9, 1))\n",
    "\n",
    "plt.ylabel('Number of Teams', fontsize=14, labelpad=8)\n",
    "plt.xlabel('First PCA Coefficient', fontsize=14, labelpad=8)\n",
    "plt.legend(frameon=False, loc=2)\n",
    "\n",
    "\n",
    "coeff_num = 1\n",
    "coeffs = pca_coefficients[coeff_num,:][idx]\n",
    "min_val = min(coeffs)\n",
    "max_val = max(coeffs)\n",
    "#bins = np.arange(min_val - 0.02, max_val + 0.02, .025)\n",
    "plt.subplot(222)\n",
    "plt.hist(coeffs[:n], bins=bins, color='g', width=width)\n",
    "plt.yticks(np.arange(0, 9, 1))\n",
    "\n",
    "plt.subplot(224)\n",
    "plt.hist(coeffs[32-n:], bins=bins, color='b', width=width)\n",
    "plt.yticks(np.arange(0, 9, 1))\n",
    "\n",
    "plt.xlabel('Second PCA Coefficient', fontsize=14, labelpad=8)\n",
    "\n",
    "plt.tight_layout()\n",
    "plt.savefig('pca2.pdf')\n",
    "\n",
    "\n",
    "    "
   ]
  }
 ],
 "metadata": {
  "kernelspec": {
   "display_name": "Python 2",
   "language": "python",
   "name": "python2"
  },
  "language_info": {
   "codemirror_mode": {
    "name": "ipython",
    "version": 2
   },
   "file_extension": ".py",
   "mimetype": "text/x-python",
   "name": "python",
   "nbconvert_exporter": "python",
   "pygments_lexer": "ipython2",
   "version": "2.7.9"
  }
 },
 "nbformat": 4,
 "nbformat_minor": 2
}
