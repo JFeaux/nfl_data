{
 "cells": [
  {
   "cell_type": "code",
   "execution_count": 52,
   "metadata": {},
   "outputs": [],
   "source": [
    "import pandas as pd\n",
    "import numpy as np\n",
    "from sklearn.decomposition import PCA\n",
    "from pca_tools import pca_scores\n",
    "from scipy.stats import linregress"
   ]
  },
  {
   "cell_type": "code",
   "execution_count": 2,
   "metadata": {},
   "outputs": [],
   "source": [
    "team_stats = pd.read_csv('team_stats.csv', index_col=0)"
   ]
  },
  {
   "cell_type": "code",
   "execution_count": 3,
   "metadata": {},
   "outputs": [
    {
     "data": {
      "text/plain": [
       "Season                         2016\n",
       "Team                             NO\n",
       "Carries                         395\n",
       "rushing_yds                    1847\n",
       "Fumbles                           2\n",
       "Receptions                      472\n",
       "receiving_yds                  5270\n",
       "Attempts                        670\n",
       "Completions                     472\n",
       "Comp_Perc                  0.704478\n",
       "passing_yds                    5270\n",
       "Total_Raw_AirYards             4816\n",
       "Total_Comp_AirYards            2802\n",
       "TimesHit                         38\n",
       "Interceptions                    16\n",
       "TDs                              41\n",
       "WR1                         0.22334\n",
       "WR2                         0.21575\n",
       "WR3                        0.169829\n",
       "TE1                        0.121063\n",
       "TE2                       0.0267552\n",
       "RB1_rec                   0.0628083\n",
       "RB2_rec                   0.0533207\n",
       "RB1_rush                   0.567407\n",
       "RB2_rush                   0.296697\n",
       "RB3_rush                  0.0173254\n",
       "QB_rush                   0.0173254\n",
       "air_pct                    0.531689\n",
       "int_rate                  0.0238806\n",
       "fumble_rate              0.00506329\n",
       "QBHit_rate                0.0567164\n",
       "first_rate                 0.200405\n",
       "second_rate                0.318182\n",
       "third_short_rate           0.517857\n",
       "third_mid_rate             0.363208\n",
       "third_long_rate            0.275862\n",
       "fourth_rate                     0.6\n",
       "sack_rate                 0.0391872\n",
       "first_run_rate             0.435223\n",
       "first_pass_rate            0.564777\n",
       "second_run_rate            0.340909\n",
       "second_pass_rate           0.659091\n",
       "fourth_run_rate            0.533333\n",
       "fourth_pass_rate           0.466667\n",
       "third_short_run_rate       0.553571\n",
       "third_short_pass_rate      0.446429\n",
       "third_mid_run_rate          0.20283\n",
       "third_mid_pass_rate         0.79717\n",
       "third_long_run_rate        0.045977\n",
       "third_long_pass_rate       0.954023\n",
       "pos_pass_rate              0.646526\n",
       "pos_run_rate               0.539846\n",
       "long_pass_rate              0.10423\n",
       "long_run_rate             0.0543807\n",
       "Name: NO2016, dtype: object"
      ]
     },
     "execution_count": 3,
     "metadata": {},
     "output_type": "execute_result"
    }
   ],
   "source": [
    "team_stats.loc['NO2016']"
   ]
  },
  {
   "cell_type": "code",
   "execution_count": 4,
   "metadata": {},
   "outputs": [
    {
     "data": {
      "text/plain": [
       "Index([u'Season', u'Team', u'Carries', u'rushing_yds', u'Fumbles',\n",
       "       u'Receptions', u'receiving_yds', u'Attempts', u'Completions',\n",
       "       u'Comp_Perc', u'passing_yds', u'Total_Raw_AirYards',\n",
       "       u'Total_Comp_AirYards', u'TimesHit', u'Interceptions', u'TDs', u'WR1',\n",
       "       u'WR2', u'WR3', u'TE1', u'TE2', u'RB1_rec', u'RB2_rec', u'RB1_rush',\n",
       "       u'RB2_rush', u'RB3_rush', u'QB_rush', u'air_pct', u'int_rate',\n",
       "       u'fumble_rate', u'QBHit_rate', u'first_rate', u'second_rate',\n",
       "       u'third_short_rate', u'third_mid_rate', u'third_long_rate',\n",
       "       u'fourth_rate', u'sack_rate', u'first_run_rate', u'first_pass_rate',\n",
       "       u'second_run_rate', u'second_pass_rate', u'fourth_run_rate',\n",
       "       u'fourth_pass_rate', u'third_short_run_rate', u'third_short_pass_rate',\n",
       "       u'third_mid_run_rate', u'third_mid_pass_rate', u'third_long_run_rate',\n",
       "       u'third_long_pass_rate', u'pos_pass_rate', u'pos_run_rate',\n",
       "       u'long_pass_rate', u'long_run_rate'],\n",
       "      dtype='object')"
      ]
     },
     "execution_count": 4,
     "metadata": {},
     "output_type": "execute_result"
    }
   ],
   "source": [
    "team_stats.columns"
   ]
  },
  {
   "cell_type": "code",
   "execution_count": 5,
   "metadata": {},
   "outputs": [],
   "source": [
    "columns = np.genfromtxt('columns.pca', dtype=str)"
   ]
  },
  {
   "cell_type": "code",
   "execution_count": 6,
   "metadata": {},
   "outputs": [],
   "source": [
    "columns = ['WR1', 'WR2', 'WR3', 'TE1', 'TE2', 'RB1_rec', 'RB2_rec']"
   ]
  },
  {
   "cell_type": "code",
   "execution_count": 7,
   "metadata": {},
   "outputs": [],
   "source": [
    "data = team_stats[columns]\n",
    "n_features = data.shape[0]\n",
    "n_components = data.shape[1]"
   ]
  },
  {
   "cell_type": "code",
   "execution_count": 8,
   "metadata": {},
   "outputs": [
    {
     "name": "stderr",
     "output_type": "stream",
     "text": [
      "/usr/local/lib/python2.7/dist-packages/pandas/core/frame.py:2824: SettingWithCopyWarning: \n",
      "A value is trying to be set on a copy of a slice from a DataFrame\n",
      "\n",
      "See the caveats in the documentation: http://pandas.pydata.org/pandas-docs/stable/indexing.html#indexing-view-versus-copy\n",
      "  downcast=downcast, **kwargs)\n"
     ]
    }
   ],
   "source": [
    "data.fillna(0, inplace=True)"
   ]
  },
  {
   "cell_type": "code",
   "execution_count": 9,
   "metadata": {},
   "outputs": [],
   "source": [
    "pca = PCA()\n"
   ]
  },
  {
   "cell_type": "code",
   "execution_count": 10,
   "metadata": {},
   "outputs": [
    {
     "data": {
      "text/plain": [
       "PCA(copy=True, iterated_power='auto', n_components=None, random_state=None,\n",
       "  svd_solver='auto', tol=0.0, whiten=False)"
      ]
     },
     "execution_count": 10,
     "metadata": {},
     "output_type": "execute_result"
    }
   ],
   "source": [
    "pca.fit(data.values)"
   ]
  },
  {
   "cell_type": "code",
   "execution_count": 11,
   "metadata": {},
   "outputs": [],
   "source": [
    "import matplotlib.pyplot as plt\n",
    "%matplotlib inline"
   ]
  },
  {
   "cell_type": "code",
   "execution_count": 12,
   "metadata": {},
   "outputs": [
    {
     "data": {
      "image/png": "[encoded data removed]",
      "text/plain": [
       "<matplotlib.figure.Figure at 0x7f04b855e190>"
      ]
     },
     "metadata": {},
     "output_type": "display_data"
    }
   ],
   "source": [
    "cumulative_variance = np.cumsum(pca.explained_variance_ratio_)\n",
    "x = np.arange(1, n_components + 1, 1)\n",
    "plt.plot(x, cumulative_variance, 'ko-')\n",
    "\n",
    "plt.xlabel('Principal component')\n",
    "plt.ylabel('Cumulative proportion of variance explained')\n",
    "\n",
    "plt.show()"
   ]
  },
  {
   "cell_type": "code",
   "execution_count": 38,
   "metadata": {},
   "outputs": [
    {
     "name": "stdout",
     "output_type": "stream",
     "text": [
      "[ 0.37036603  0.22160655  0.15316922  0.10038524  0.08189649  0.05120178\n",
      "  0.02137469]\n"
     ]
    }
   ],
   "source": [
    "print pca.explained_variance_ratio_"
   ]
  },
  {
   "cell_type": "code",
   "execution_count": 36,
   "metadata": {},
   "outputs": [
    {
     "data": {
      "text/plain": [
       "teamID\n",
       "LA2015     0.213198\n",
       "JAX2012    0.245283\n",
       "ARI2012    0.250000\n",
       "KC2009     0.250000\n",
       "SF2011     0.252336\n",
       "TEN2014    0.253968\n",
       "BUF2009    0.255208\n",
       "SF2009     0.258216\n",
       "WAS2012    0.259669\n",
       "DEN2016    0.267281\n",
       "LA2011     0.269058\n",
       "ARI2010    0.269608\n",
       "PHI2009    0.275862\n",
       "SF2016     0.276018\n",
       "MIA2015    0.277228\n",
       "JAX2013    0.278027\n",
       "DEN2010    0.280788\n",
       "SF2010     0.282927\n",
       "GB2015     0.282927\n",
       "BUF2011    0.284211\n",
       "CLE2014    0.284314\n",
       "LA2016     0.284360\n",
       "MIN2015    0.286458\n",
       "CLE2012    0.287736\n",
       "DEN2011    0.289100\n",
       "LA2010     0.290043\n",
       "SF2015     0.290476\n",
       "TB2013     0.292453\n",
       "CIN2011    0.293578\n",
       "WAS2010    0.294118\n",
       "             ...   \n",
       "NE2014     0.397196\n",
       "JAX2009    0.397260\n",
       "PIT2014    0.398010\n",
       "GB2016     0.398010\n",
       "IND2009    0.400000\n",
       "CIN2013    0.400922\n",
       "PHI2011    0.401015\n",
       "DET2016    0.401042\n",
       "IND2012    0.401826\n",
       "IND2010    0.402010\n",
       "CAR2013    0.402985\n",
       "GB2011     0.403226\n",
       "DAL2012    0.403846\n",
       "SD2011     0.404878\n",
       "NE2011     0.407407\n",
       "DEN2013    0.409091\n",
       "DET2013    0.411215\n",
       "PHI2014    0.411255\n",
       "NE2012     0.412844\n",
       "NO2012     0.416667\n",
       "SD2010     0.420000\n",
       "DEN2012    0.425121\n",
       "DAL2014    0.427083\n",
       "MIA2009    0.427386\n",
       "NO2015     0.436620\n",
       "NO2010     0.438679\n",
       "SD2013     0.440594\n",
       "NO2014     0.443350\n",
       "ATL2015    0.445455\n",
       "NO2011     0.480769\n",
       "Name: third_mid_rate, dtype: float64"
      ]
     },
     "execution_count": 36,
     "metadata": {},
     "output_type": "execute_result"
    }
   ],
   "source": [
    "scores = pca_scores(data.values, pca.components_)\n",
    "\n",
    "idx = team_stats['third_mid_rate'].argsort()\n",
    "team_stats['third_mid_rate'][idx]"
   ]
  },
  {
   "cell_type": "code",
   "execution_count": 43,
   "metadata": {},
   "outputs": [
    {
     "ename": "ValueError",
     "evalue": "color kwarg must have one color per dataset",
     "output_type": "error",
     "traceback": [
      "\u001b[0;31m--------------------------------------------------------------------------\u001b[0m",
      "\u001b[0;31mValueError\u001b[0m                               Traceback (most recent call last)",
      "\u001b[0;32m<ipython-input-43-0197016d311b>\u001b[0m in \u001b[0;36m<module>\u001b[0;34m()\u001b[0m\n\u001b[1;32m     16\u001b[0m \u001b[0mplt\u001b[0m\u001b[0;34m.\u001b[0m\u001b[0myticks\u001b[0m\u001b[0;34m(\u001b[0m\u001b[0mnp\u001b[0m\u001b[0;34m.\u001b[0m\u001b[0marange\u001b[0m\u001b[0;34m(\u001b[0m\u001b[0;36m0\u001b[0m\u001b[0;34m,\u001b[0m \u001b[0;36m10\u001b[0m\u001b[0;34m,\u001b[0m \u001b[0;36m2\u001b[0m\u001b[0;34m)\u001b[0m\u001b[0;34m)\u001b[0m\u001b[0;34m\u001b[0m\u001b[0m\n\u001b[1;32m     17\u001b[0m \u001b[0;34m\u001b[0m\u001b[0m\n\u001b[0;32m---> 18\u001b[0;31m \u001b[0mlowest\u001b[0m \u001b[0;34m=\u001b[0m \u001b[0mplt\u001b[0m\u001b[0;34m.\u001b[0m\u001b[0mhist\u001b[0m\u001b[0;34m(\u001b[0m\u001b[0msorted_scores\u001b[0m\u001b[0;34m[\u001b[0m\u001b[0;34m:\u001b[0m\u001b[0mtop\u001b[0m\u001b[0;34m]\u001b[0m\u001b[0;34m,\u001b[0m \u001b[0malpha\u001b[0m\u001b[0;34m=\u001b[0m\u001b[0;36m1\u001b[0m\u001b[0;34m,\u001b[0m \u001b[0mbins\u001b[0m\u001b[0;34m=\u001b[0m\u001b[0mbins\u001b[0m\u001b[0;34m,\u001b[0m \u001b[0mcolor\u001b[0m\u001b[0;34m=\u001b[0m\u001b[0;34m'b'\u001b[0m\u001b[0;34m,\u001b[0m \u001b[0mlabel\u001b[0m\u001b[0;34m=\u001b[0m\u001b[0;34m\"Bottom Teams\"\u001b[0m\u001b[0;34m)\u001b[0m\u001b[0;34m\u001b[0m\u001b[0m\n\u001b[0m\u001b[1;32m     19\u001b[0m \u001b[0mplt\u001b[0m\u001b[0;34m.\u001b[0m\u001b[0mlegend\u001b[0m\u001b[0;34m(\u001b[0m\u001b[0mframeon\u001b[0m\u001b[0;34m=\u001b[0m\u001b[0mFalse\u001b[0m\u001b[0;34m,\u001b[0m \u001b[0mloc\u001b[0m\u001b[0;34m=\u001b[0m\u001b[0;36m2\u001b[0m\u001b[0;34m)\u001b[0m\u001b[0;34m\u001b[0m\u001b[0m\n\u001b[1;32m     20\u001b[0m \u001b[0;34m\u001b[0m\u001b[0m\n",
      "\u001b[0;32m/usr/lib/python2.7/dist-packages/matplotlib/pyplot.pyc\u001b[0m in \u001b[0;36mhist\u001b[0;34m(x, bins, range, normed, weights, cumulative, bottom, histtype, align, orientation, rwidth, log, color, label, stacked, hold, **kwargs)\u001b[0m\n\u001b[1;32m   2894\u001b[0m                       \u001b[0mhisttype\u001b[0m\u001b[0;34m=\u001b[0m\u001b[0mhisttype\u001b[0m\u001b[0;34m,\u001b[0m \u001b[0malign\u001b[0m\u001b[0;34m=\u001b[0m\u001b[0malign\u001b[0m\u001b[0;34m,\u001b[0m \u001b[0morientation\u001b[0m\u001b[0;34m=\u001b[0m\u001b[0morientation\u001b[0m\u001b[0;34m,\u001b[0m\u001b[0;34m\u001b[0m\u001b[0m\n\u001b[1;32m   2895\u001b[0m                       \u001b[0mrwidth\u001b[0m\u001b[0;34m=\u001b[0m\u001b[0mrwidth\u001b[0m\u001b[0;34m,\u001b[0m \u001b[0mlog\u001b[0m\u001b[0;34m=\u001b[0m\u001b[0mlog\u001b[0m\u001b[0;34m,\u001b[0m \u001b[0mcolor\u001b[0m\u001b[0;34m=\u001b[0m\u001b[0mcolor\u001b[0m\u001b[0;34m,\u001b[0m \u001b[0mlabel\u001b[0m\u001b[0;34m=\u001b[0m\u001b[0mlabel\u001b[0m\u001b[0;34m,\u001b[0m\u001b[0;34m\u001b[0m\u001b[0m\n\u001b[0;32m-> 2896\u001b[0;31m                       stacked=stacked, **kwargs)\n\u001b[0m\u001b[1;32m   2897\u001b[0m         \u001b[0mdraw_if_interactive\u001b[0m\u001b[0;34m(\u001b[0m\u001b[0;34m)\u001b[0m\u001b[0;34m\u001b[0m\u001b[0m\n\u001b[1;32m   2898\u001b[0m     \u001b[0;32mfinally\u001b[0m\u001b[0;34m:\u001b[0m\u001b[0;34m\u001b[0m\u001b[0m\n",
      "\u001b[0;32m/usr/lib/python2.7/dist-packages/matplotlib/axes/_axes.pyc\u001b[0m in \u001b[0;36mhist\u001b[0;34m(self, x, bins, range, normed, weights, cumulative, bottom, histtype, align, orientation, rwidth, log, color, label, stacked, **kwargs)\u001b[0m\n\u001b[1;32m   5601\u001b[0m             \u001b[0mcolor\u001b[0m \u001b[0;34m=\u001b[0m \u001b[0mmcolors\u001b[0m\u001b[0;34m.\u001b[0m\u001b[0mcolorConverter\u001b[0m\u001b[0;34m.\u001b[0m\u001b[0mto_rgba_array\u001b[0m\u001b[0;34m(\u001b[0m\u001b[0mcolor\u001b[0m\u001b[0;34m)\u001b[0m\u001b[0;34m\u001b[0m\u001b[0m\n\u001b[1;32m   5602\u001b[0m             \u001b[0;32mif\u001b[0m \u001b[0mlen\u001b[0m\u001b[0;34m(\u001b[0m\u001b[0mcolor\u001b[0m\u001b[0;34m)\u001b[0m \u001b[0;34m!=\u001b[0m \u001b[0mnx\u001b[0m\u001b[0;34m:\u001b[0m\u001b[0;34m\u001b[0m\u001b[0m\n\u001b[0;32m-> 5603\u001b[0;31m                 \u001b[0;32mraise\u001b[0m \u001b[0mValueError\u001b[0m\u001b[0;34m(\u001b[0m\u001b[0;34m\"color kwarg must have one color per dataset\"\u001b[0m\u001b[0;34m)\u001b[0m\u001b[0;34m\u001b[0m\u001b[0m\n\u001b[0m\u001b[1;32m   5604\u001b[0m \u001b[0;34m\u001b[0m\u001b[0m\n\u001b[1;32m   5605\u001b[0m         \u001b[0;31m# We need to do to 'weights' what was done to 'x'\u001b[0m\u001b[0;34m\u001b[0m\u001b[0;34m\u001b[0m\u001b[0m\n",
      "\u001b[0;31mValueError\u001b[0m: color kwarg must have one color per dataset"
     ]
    },
    {
     "data": {
      "image/png": "[encoded data removed]",
      "text/plain": [
       "<matplotlib.figure.Figure at 0x7f04b7947650>"
      ]
     },
     "metadata": {},
     "output_type": "display_data"
    }
   ],
   "source": [
    "plt.figure(figsize=(7,10))\n",
    "x = 0\n",
    "top = 50\n",
    "bins = np.arange(-.15, .16, .01)\n",
    "\n",
    "plt.subplot(311)\n",
    "plt.yticks(np.arange(0, 50, 10))\n",
    "\n",
    "plt.hist(scores[x, :], bins=bins, color='b',label='All Teams')\n",
    "\n",
    "plt.legend(frameon=False, loc=2)\n",
    "\n",
    "\n",
    "sorted_scores = scores[x, idx]\n",
    "plt.subplot(312)\n",
    "plt.yticks(np.arange(0, 10, 2))\n",
    "\n",
    "lowest = plt.hist(sorted_scores[:top], alpha=1, bins=bins, color='b', label=\"Bottom Teams\")\n",
    "plt.legend(frameon=False, loc=2)\n",
    "\n",
    "plt.subplot(313)\n",
    "plt.yticks(np.arange(0, 10, 2))\n",
    "highest = plt.hist(sorted_scores[256-top:], alpha=1, bins=bins, color='b', label='Top Teams')\n",
    "plt.legend(frameon=False, loc=2)\n",
    "\n",
    "plt.xlabel('Component 1 Score')\n",
    "\n",
    "plt.show()"
   ]
  },
  {
   "cell_type": "code",
   "execution_count": 40,
   "metadata": {},
   "outputs": [
    {
     "name": "stdout",
     "output_type": "stream",
     "text": [
      "[[-0.59206552 -0.32810015 -0.05678686  0.72483944  0.05851238  0.09581229\n",
      "   0.02424997]\n",
      " [ 0.73856336 -0.28858866 -0.3933387   0.45540246 -0.07325889 -0.04838546\n",
      "  -0.03776242]\n",
      " [-0.01894904 -0.73735287 -0.11519819 -0.43510861  0.36289414  0.34016404\n",
      "   0.077187  ]\n",
      " [-0.05486406  0.37284425 -0.4577097  -0.00596796 -0.14867949  0.78986048\n",
      "   0.04957964]\n",
      " [-0.13013539  0.28254681 -0.56761395 -0.03107189  0.67948424 -0.34061374\n",
      "  -0.04862585]\n",
      " [ 0.2451746   0.17156995  0.5016382   0.23843816  0.55640155  0.35866779\n",
      "  -0.40464091]\n",
      " [ 0.15351757  0.13075108  0.21322442  0.1415735   0.25715788  0.06501844\n",
      "   0.90745316]]\n"
     ]
    }
   ],
   "source": [
    "print pca.components_[0:]"
   ]
  },
  {
   "cell_type": "code",
   "execution_count": 17,
   "metadata": {},
   "outputs": [
    {
     "name": "stdout",
     "output_type": "stream",
     "text": [
      "Index([u'WR1', u'WR2', u'WR3', u'TE1', u'TE2', u'RB1_rec', u'RB2_rec'], dtype='object')\n"
     ]
    }
   ],
   "source": [
    "print data.columns"
   ]
  },
  {
   "cell_type": "code",
   "execution_count": 41,
   "metadata": {},
   "outputs": [
    {
     "name": "stdout",
     "output_type": "stream",
     "text": [
      "[[-0.59206552 -0.32810015  0.72483944]]\n",
      "Index([u'WR1', u'WR2', u'TE1'], dtype='object')\n"
     ]
    }
   ],
   "source": [
    "idx = np.where(pca.components_[0, :]**2 > 0.1)\n",
    "print(pca.components_[0, idx])\n",
    "print(data.columns[idx])"
   ]
  },
  {
   "cell_type": "code",
   "execution_count": 19,
   "metadata": {},
   "outputs": [
    {
     "name": "stdout",
     "output_type": "stream",
     "text": [
      "[[ 0.73856336 -0.3933387   0.45540246]]\n",
      "Index([u'WR1', u'WR3', u'TE1'], dtype='object')\n"
     ]
    }
   ],
   "source": [
    "idx = np.where(pca.components_[1, :]**2 > 0.1)\n",
    "print(pca.components_[1, idx])\n",
    "print(data.columns[idx])"
   ]
  },
  {
   "cell_type": "code",
   "execution_count": 20,
   "metadata": {},
   "outputs": [
    {
     "name": "stdout",
     "output_type": "stream",
     "text": [
      "[[-0.73735287 -0.43510861  0.36289414  0.34016404]]\n",
      "Index([u'WR2', u'TE1', u'TE2', u'RB1_rec'], dtype='object')\n"
     ]
    }
   ],
   "source": [
    "idx = np.where(pca.components_[2, :]**2 > 0.1)\n",
    "print(pca.components_[2, idx])\n",
    "print(data.columns[idx])"
   ]
  },
  {
   "cell_type": "code",
   "execution_count": 21,
   "metadata": {},
   "outputs": [
    {
     "name": "stdout",
     "output_type": "stream",
     "text": [
      "[[ 0.37284425 -0.4577097   0.78986048]]\n",
      "Index([u'WR2', u'WR3', u'RB1_rec'], dtype='object')\n"
     ]
    }
   ],
   "source": [
    "idx = np.where(pca.components_[3, :]**2 > 0.1)\n",
    "print(pca.components_[3, idx])\n",
    "print(data.columns[idx])"
   ]
  },
  {
   "cell_type": "code",
   "execution_count": 22,
   "metadata": {},
   "outputs": [
    {
     "name": "stdout",
     "output_type": "stream",
     "text": [
      "[[-0.56761395  0.67948424 -0.34061374]]\n",
      "Index([u'WR3', u'TE2', u'RB1_rec'], dtype='object')\n"
     ]
    }
   ],
   "source": [
    "idx = np.where(pca.components_[4, :]**2 > 0.1)\n",
    "print(pca.components_[4, idx])\n",
    "print(data.columns[idx])"
   ]
  },
  {
   "cell_type": "code",
   "execution_count": 23,
   "metadata": {},
   "outputs": [
    {
     "name": "stdout",
     "output_type": "stream",
     "text": [
      "[[ 0.5016382   0.55640155  0.35866779 -0.40464091]]\n",
      "Index([u'WR3', u'TE2', u'RB1_rec', u'RB2_rec'], dtype='object')\n"
     ]
    }
   ],
   "source": [
    "idx = np.where(pca.components_[5, :]**2 > 0.1)\n",
    "print(pca.components_[5, idx])\n",
    "print(data.columns[idx])"
   ]
  },
  {
   "cell_type": "code",
   "execution_count": 24,
   "metadata": {},
   "outputs": [
    {
     "name": "stdout",
     "output_type": "stream",
     "text": [
      "[[ 0.90745316]]\n",
      "Index([u'RB2_rec'], dtype='object')\n"
     ]
    }
   ],
   "source": [
    "idx = np.where(pca.components_[6, :]**2 > 0.1)\n",
    "print(pca.components_[6, idx])\n",
    "print(data.columns[idx])"
   ]
  },
  {
   "cell_type": "code",
   "execution_count": 25,
   "metadata": {},
   "outputs": [
    {
     "ename": "IndexError",
     "evalue": "index 7 is out of bounds for axis 0 with size 7",
     "output_type": "error",
     "traceback": [
      "\u001b[0;31m--------------------------------------------------------------------------\u001b[0m",
      "\u001b[0;31mIndexError\u001b[0m                               Traceback (most recent call last)",
      "\u001b[0;32m<ipython-input-25-88814f48d77e>\u001b[0m in \u001b[0;36m<module>\u001b[0;34m()\u001b[0m\n\u001b[0;32m----> 1\u001b[0;31m \u001b[0midx\u001b[0m \u001b[0;34m=\u001b[0m \u001b[0mnp\u001b[0m\u001b[0;34m.\u001b[0m\u001b[0mwhere\u001b[0m\u001b[0;34m(\u001b[0m\u001b[0mpca\u001b[0m\u001b[0;34m.\u001b[0m\u001b[0mcomponents_\u001b[0m\u001b[0;34m[\u001b[0m\u001b[0;36m7\u001b[0m\u001b[0;34m,\u001b[0m \u001b[0;34m:\u001b[0m\u001b[0;34m]\u001b[0m\u001b[0;34m**\u001b[0m\u001b[0;36m2\u001b[0m \u001b[0;34m>\u001b[0m \u001b[0;36m0.1\u001b[0m\u001b[0;34m)\u001b[0m\u001b[0;34m\u001b[0m\u001b[0m\n\u001b[0m\u001b[1;32m      2\u001b[0m \u001b[0;32mprint\u001b[0m\u001b[0;34m(\u001b[0m\u001b[0mpca\u001b[0m\u001b[0;34m.\u001b[0m\u001b[0mcomponents_\u001b[0m\u001b[0;34m[\u001b[0m\u001b[0;36m7\u001b[0m\u001b[0;34m,\u001b[0m \u001b[0midx\u001b[0m\u001b[0;34m]\u001b[0m\u001b[0;34m)\u001b[0m\u001b[0;34m\u001b[0m\u001b[0m\n\u001b[1;32m      3\u001b[0m \u001b[0;32mprint\u001b[0m\u001b[0;34m(\u001b[0m\u001b[0mdata\u001b[0m\u001b[0;34m.\u001b[0m\u001b[0mcolumns\u001b[0m\u001b[0;34m[\u001b[0m\u001b[0midx\u001b[0m\u001b[0;34m]\u001b[0m\u001b[0;34m)\u001b[0m\u001b[0;34m\u001b[0m\u001b[0m\n",
      "\u001b[0;31mIndexError\u001b[0m: index 7 is out of bounds for axis 0 with size 7"
     ]
    }
   ],
   "source": [
    "idx = np.where(pca.components_[7, :]**2 > 0.1)\n",
    "print(pca.components_[7, idx])\n",
    "print(data.columns[idx])"
   ]
  },
  {
   "cell_type": "code",
   "execution_count": null,
   "metadata": {},
   "outputs": [],
   "source": [
    "idx = np.where(pca.components_[8, :]**2 > 0.1)\n",
    "print(pca.components_[8, idx])\n",
    "print(data.columns[idx])"
   ]
  },
  {
   "cell_type": "code",
   "execution_count": null,
   "metadata": {},
   "outputs": [],
   "source": [
    "idx = np.where(pca.components_[9, :]**2 > 0.1)\n",
    "print(pca.components_[9, idx])\n",
    "print(data.columns[idx])"
   ]
  },
  {
   "cell_type": "code",
   "execution_count": null,
   "metadata": {},
   "outputs": [],
   "source": [
    "idx = np.where(pca.components_[10, :]**2 > 0.1)\n",
    "print(pca.components_[10, idx])\n",
    "print(data.columns[idx])"
   ]
  },
  {
   "cell_type": "code",
   "execution_count": null,
   "metadata": {},
   "outputs": [],
   "source": [
    "idx = np.where(pca.components_[11, :]**2 > 0.1)\n",
    "print(pca.components_[11, idx])\n",
    "print(data.columns[idx])"
   ]
  },
  {
   "cell_type": "code",
   "execution_count": null,
   "metadata": {},
   "outputs": [],
   "source": [
    "idx = np.where(pca.components_[12, :]**2 > 0.1)\n",
    "print(pca.components_[12, idx])\n",
    "print(data.columns[idx])"
   ]
  },
  {
   "cell_type": "code",
   "execution_count": 55,
   "metadata": {},
   "outputs": [
    {
     "data": {
      "image/png": "[encoded data removed]",
      "text/plain": [
       "<matplotlib.figure.Figure at 0x7f04b736cdd0>"
      ]
     },
     "metadata": {},
     "output_type": "display_data"
    },
    {
     "name": "stdout",
     "output_type": "stream",
     "text": [
      "(0.33120722931887447, 5.7200595180510798e-08)\n"
     ]
    }
   ],
   "source": [
    "# Early conversion on 3rd and mid\n",
    "plt.plot(team_stats.second_rate, team_stats.third_mid_rate, 'ko')\n",
    "m, b, r_value, p_value, std_err = linregress(team_stats.second_rate, team_stats.third_mid_rate)\n",
    "x = np.arange(0.15, 0.4, 0.05)\n",
    "y = m * x + b\n",
    "plt.plot(x, y)\n",
    "plt.show()\n",
    "print(r_value, p_value)"
   ]
  },
  {
   "cell_type": "code",
   "execution_count": 59,
   "metadata": {},
   "outputs": [
    {
     "data": {
      "image/png": "[encoded data removed]",
      "text/plain": [
       "<matplotlib.figure.Figure at 0x7f04b793a4d0>"
      ]
     },
     "metadata": {},
     "output_type": "display_data"
    },
    {
     "name": "stdout",
     "output_type": "stream",
     "text": [
      "(-0.013359655540941815, 0.83154699873701443)\n"
     ]
    }
   ],
   "source": [
    "# Play selection on 3rd and mid\n",
    "plt.plot(team_stats.third_mid_pass_rate, team_stats.third_mid_rate, 'ko')\n",
    "m, b, r_value, p_value, std_err = linregress(team_stats.third_mid_pass_rate, team_stats.third_mid_rate)\n",
    "x = np.arange(0.6, 1., 0.05)\n",
    "y = m * x + b\n",
    "plt.plot(x, y)\n",
    "plt.show()\n",
    "print(r_value, p_value)"
   ]
  },
  {
   "cell_type": "code",
   "execution_count": 64,
   "metadata": {},
   "outputs": [
    {
     "data": {
      "image/png": "[encoded data removed]",
      "text/plain": [
       "<matplotlib.figure.Figure at 0x7f04b80fbc50>"
      ]
     },
     "metadata": {},
     "output_type": "display_data"
    },
    {
     "name": "stdout",
     "output_type": "stream",
     "text": [
      "(0.28929756501722881, 2.5120531510549882e-06)\n"
     ]
    }
   ],
   "source": [
    "# Play selection on 3rd and short\n",
    "plt.plot(team_stats.third_short_run_rate, team_stats.third_short_rate, 'ko')\n",
    "m, b, r_value, p_value, std_err = linregress(team_stats.third_short_run_rate, team_stats.third_short_rate)\n",
    "x = np.arange(0.25, .9, 0.05)\n",
    "y = m * x + b\n",
    "plt.plot(x, y)\n",
    "plt.show()\n",
    "print(r_value, p_value)"
   ]
  },
  {
   "cell_type": "code",
   "execution_count": 66,
   "metadata": {},
   "outputs": [
    {
     "data": {
      "image/png": "[encoded data removed]",
      "text/plain": [
       "<matplotlib.figure.Figure at 0x7f04b7393750>"
      ]
     },
     "metadata": {},
     "output_type": "display_data"
    },
    {
     "name": "stdout",
     "output_type": "stream",
     "text": [
      "(0.1917695233625864, 0.0020564856849678644)\n"
     ]
    }
   ],
   "source": [
    "# Play selection on 3rd and long\n",
    "plt.plot(team_stats.third_long_pass_rate, team_stats.third_long_rate, 'ko')\n",
    "m, b, r_value, p_value, std_err = linregress(team_stats.third_long_pass_rate, team_stats.third_long_rate)\n",
    "x = np.arange(0.7, 1., 0.05)\n",
    "y = m * x + b\n",
    "plt.plot(x, y)\n",
    "plt.show()\n",
    "print(r_value, p_value)"
   ]
  },
  {
   "cell_type": "code",
   "execution_count": 84,
   "metadata": {},
   "outputs": [
    {
     "data": {
      "image/png": "[encoded data removed]",
      "text/plain": [
       "<matplotlib.figure.Figure at 0x7f04b75c7210>"
      ]
     },
     "metadata": {},
     "output_type": "display_data"
    },
    {
     "name": "stdout",
     "output_type": "stream",
     "text": [
      "(-0.36056005140695557, 2.8192978676022894e-09)\n"
     ]
    }
   ],
   "source": [
    "# Play selection on 3rd and mid\n",
    "plt.plot(team_stats.sack_rate, team_stats.third_mid_rate, 'ko')\n",
    "m, b, r_value, p_value, std_err = linregress(team_stats.sack_rate, team_stats.third_mid_rate)\n",
    "x = np.arange(0.0, .15, 0.1)\n",
    "y = m * x + b\n",
    "plt.plot(x, y)\n",
    "plt.show()\n",
    "print(r_value, p_value)"
   ]
  }
 ],
 "metadata": {
  "kernelspec": {
   "display_name": "Python 2",
   "language": "python",
   "name": "python2"
  },
  "language_info": {
   "codemirror_mode": {
    "name": "ipython",
    "version": 2
   },
   "file_extension": ".py",
   "mimetype": "text/x-python",
   "name": "python",
   "nbconvert_exporter": "python",
   "pygments_lexer": "ipython2",
   "version": "2.7.9"
  }
 },
 "nbformat": 4,
 "nbformat_minor": 2
}
