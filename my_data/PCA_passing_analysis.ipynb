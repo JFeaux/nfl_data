{
 "cells": [
  {
   "cell_type": "code",
   "execution_count": 1,
   "metadata": {},
   "outputs": [],
   "source": [
    "import sys\n",
    "import pandas as pd\n",
    "import numpy as np\n",
    "import matplotlib.pyplot as plt\n",
    "from sklearn.decomposition import PCA\n",
    "from pca_tools import pca_scores"
   ]
  },
  {
   "cell_type": "code",
   "execution_count": 2,
   "metadata": {},
   "outputs": [],
   "source": [
    "pbp = pd.read_csv('play_by_play.csv')\n",
    "pbp['teamID'] = pbp.offensive_team.astype(str) + pbp.season.astype(str)\n"
   ]
  },
  {
   "cell_type": "code",
   "execution_count": 3,
   "metadata": {},
   "outputs": [
    {
     "data": {
      "text/plain": [
       "Index([u'date', u'game_ID', u'drive', u'qtr', u'down', u'time', u'yd_line',\n",
       "       u'yds_to_endzone', u'yds_to_go', u'goal_to_go', u'first_down',\n",
       "       u'offensive_team', u'defensive_team', u'description', u'play_attempted',\n",
       "       u'yards_gained', u'scoring_play', u'touchdown', u'safety', u'play_type',\n",
       "       u'passer', u'passer_ID', u'pass_attempt', u'pass_outcome',\n",
       "       u'pass_length', u'air_yds', u'yac', u'qb_hit', u'pass_location',\n",
       "       u'interception', u'rusher', u'rusher_ID', u'rush_attempt',\n",
       "       u'run_location', u'run_gap', u'receiver', u'receiver_ID', u'reception',\n",
       "       u'FG_result', u'sack', u'challenge', u'challenge_result',\n",
       "       u'accepted_penalty', u'penalized_team', u'penalty_type',\n",
       "       u'penalty_yards', u'season', u'teamID'],\n",
       "      dtype='object')"
      ]
     },
     "execution_count": 3,
     "metadata": {},
     "output_type": "execute_result"
    }
   ],
   "source": [
    "pbp.columns"
   ]
  },
  {
   "cell_type": "code",
   "execution_count": 4,
   "metadata": {},
   "outputs": [],
   "source": [
    "# Filter Data \n",
    "# Only Passing plays without sacks\n",
    "play_filter = (pbp.pass_outcome == 'Complete') #| (pbp.pass_outcome == 'Incomplete')\n",
    "filtered_data = pbp[play_filter & (pbp.accepted_penalty == 0)]"
   ]
  },
  {
   "cell_type": "code",
   "execution_count": 5,
   "metadata": {},
   "outputs": [
    {
     "data": {
      "text/plain": [
       "Index([u'ARI2009', u'ARI2010', u'ARI2011', u'ARI2012', u'ARI2013', u'ARI2014',\n",
       "       u'ARI2015', u'ARI2016', u'ATL2009', u'ATL2010',\n",
       "       ...\n",
       "       u'TEN2016', u'WAS2009', u'WAS2010', u'WAS2011', u'WAS2012', u'WAS2013',\n",
       "       u'WAS2014', u'WAS2015', u'WAS2016', u'nan2010'],\n",
       "      dtype='object', name=u'teamID', length=257)"
      ]
     },
     "execution_count": 5,
     "metadata": {},
     "output_type": "execute_result"
    }
   ],
   "source": [
    "teams = filtered_data.groupby('teamID').count()\n",
    "teams.index"
   ]
  },
  {
   "cell_type": "code",
   "execution_count": 6,
   "metadata": {},
   "outputs": [],
   "source": [
    "yd_bins = np.arange(-100, 101, 1)\n",
    "distributions = np.zeros((teams.index.size - 1, len(yd_bins) - 1))\n",
    "for i, team in enumerate(teams.index[:-1]):\n",
    "        \n",
    "    single_team = filtered_data[(filtered_data.teamID == team)]\n",
    "    # Yards ball was in air\n",
    "    #print(team)\n",
    "    #print(team)\n",
    "    #print(single_team.air_yds)\n",
    "    all_plays = plt.hist(single_team.air_yds.values, bins=yd_bins)\n",
    "    total_plays = single_team.play_attempted.count()\n",
    "    \n",
    "    # Normalized histogram for each team\n",
    "    distributions[i, :] = all_plays[0] / total_plays\n",
    "    plt.close()"
   ]
  },
  {
   "cell_type": "code",
   "execution_count": 7,
   "metadata": {},
   "outputs": [],
   "source": [
    "single_team = filtered_data[(filtered_data.teamID == 'NO2016')]\n",
    "plt.hist(single_team.air_yds.values, bins=yd_bins)\n",
    "\n",
    "single_team = filtered_data[(filtered_data.teamID == 'CLE2016')]\n",
    "plt.hist(single_team.air_yds.values, bins=yd_bins)\n",
    "plt.show()\n",
    "\n"
   ]
  },
  {
   "cell_type": "code",
   "execution_count": 8,
   "metadata": {},
   "outputs": [],
   "source": [
    "pca = PCA()\n",
    "pca.fit(distributions)\n",
    "mean_distribution = np.mean(distributions, axis=0)\n",
    "n_components = len(yd_bins) - 1"
   ]
  },
  {
   "cell_type": "code",
   "execution_count": 9,
   "metadata": {},
   "outputs": [],
   "source": [
    "plt.close()"
   ]
  },
  {
   "cell_type": "code",
   "execution_count": 10,
   "metadata": {},
   "outputs": [],
   "source": [
    "cumulative_variance = np.cumsum(pca.explained_variance_ratio_)\n",
    "x = np.arange(1, n_components + 1, 1)\n",
    "plt.plot(x, cumulative_variance, 'ko-')\n",
    "\n",
    "plt.xlabel('Principal component')\n",
    "plt.ylabel('Cumulative proportion of variance explained')\n",
    "\n",
    "plt.savefig('pca_variance.pdf')"
   ]
  },
  {
   "cell_type": "code",
   "execution_count": 11,
   "metadata": {},
   "outputs": [],
   "source": [
    "n = 6\n",
    "\n",
    "plt.figure(figsize=(6, 9))\n",
    "\n",
    "plt.subplot(211)\n",
    "plt.title('PCA Analysis of completed passes', fontsize=18)\n",
    "plt.plot(yd_bins[:-1], mean_distribution, 'k--',linewidth=2, label='Mean Distribution')\n",
    "plt.xlim([-20, 20])\n",
    "plt.yticks(np.arange(0, .1, 0.01))\n",
    "plt.legend(frameon=False, loc=2)\n",
    "plt.subplot(212)\n",
    "for i in range(n):\n",
    "    if i == 4:\n",
    "        plt.plot(yd_bins[:-1], pca.components_[i], label='Component: {}'.format(i + 1), linewidth=2)\n",
    "plt.xlim([-20, 20])\n",
    "plt.legend(frameon=False,loc=2)\n",
    "plt.xlabel('Yards in the air', fontsize=12, labelpad=8)\n",
    "plt.tight_layout()\n",
    "\n",
    "plt.savefig('pca_components.pdf')"
   ]
  },
  {
   "cell_type": "code",
   "execution_count": 12,
   "metadata": {},
   "outputs": [],
   "source": [
    "from pca_tools import pca_scores"
   ]
  },
  {
   "cell_type": "code",
   "execution_count": 13,
   "metadata": {},
   "outputs": [],
   "source": [
    "scores = pca_scores(distributions, pca.components_[0:6, :])"
   ]
  },
  {
   "cell_type": "code",
   "execution_count": 14,
   "metadata": {},
   "outputs": [
    {
     "data": {
      "text/plain": [
       "array([[-0.01746784,  0.0226213 , -0.04648101, ..., -0.00532765,\n",
       "        -0.02310155, -0.06918777],\n",
       "       [-0.0091231 , -0.00533827, -0.01396236, ...,  0.0275392 ,\n",
       "         0.07158875,  0.02971481],\n",
       "       [ 0.00224364,  0.01663212,  0.01748614, ..., -0.01745206,\n",
       "         0.01099371,  0.00855259],\n",
       "       [ 0.00675782, -0.02660826, -0.00405983, ...,  0.02193917,\n",
       "        -0.01407023, -0.00615767],\n",
       "       [-0.02750836, -0.00119836, -0.00841259, ...,  0.01214991,\n",
       "         0.01587749, -0.0059028 ],\n",
       "       [-0.0144588 ,  0.00924931,  0.00450567, ...,  0.00451924,\n",
       "         0.00163689, -0.00243035]])"
      ]
     },
     "execution_count": 14,
     "metadata": {},
     "output_type": "execute_result"
    }
   ],
   "source": [
    "scores"
   ]
  },
  {
   "cell_type": "code",
   "execution_count": 15,
   "metadata": {},
   "outputs": [],
   "source": [
    "# Passing Totals\n",
    "passing_totals = filtered_data.groupby('teamID').agg({'yards_gained' : 'sum'})\n",
    "passing_totals = passing_totals.reset_index()\n",
    "\n",
    "# Index to sort \n",
    "idx = passing_totals['yards_gained'].argsort().values"
   ]
  },
  {
   "cell_type": "code",
   "execution_count": 16,
   "metadata": {},
   "outputs": [],
   "source": [
    "from scipy.stats import norm\n"
   ]
  },
  {
   "cell_type": "code",
   "execution_count": 17,
   "metadata": {},
   "outputs": [],
   "source": [
    "%matplotlib inline"
   ]
  },
  {
   "cell_type": "code",
   "execution_count": 18,
   "metadata": {},
   "outputs": [
    {
     "data": {
      "image/png": "[encoded data removed]",
      "text/plain": [
       "<matplotlib.figure.Figure at 0x7f1ade3a3b10>"
      ]
     },
     "metadata": {},
     "output_type": "display_data"
    }
   ],
   "source": [
    "plt.figure(figsize=(7,10))\n",
    "x = 0\n",
    "top = 50\n",
    "bins = np.arange(-.10, .11, .01)\n",
    "\n",
    "plt.subplot(311)\n",
    "plt.yticks(np.arange(0, 50, 10))\n",
    "\n",
    "plt.hist(scores[x, :], bins=bins, color='b',label='All Teams')\n",
    "\n",
    "plt.legend(frameon=False, loc=2)\n",
    "\n",
    "\n",
    "sorted_scores = scores[x, :]\n",
    "plt.subplot(312)\n",
    "plt.yticks(np.arange(0, 10, 2))\n",
    "\n",
    "lowest = plt.hist(sorted_scores[:top], alpha=1, bins=bins, color='b', label=\"Bottom Teams\")\n",
    "plt.legend(frameon=False, loc=2)\n",
    "\n",
    "plt.subplot(313)\n",
    "plt.yticks(np.arange(0, 10, 2))\n",
    "highest = plt.hist(sorted_scores[256-top:], alpha=1, bins=bins, color='b', label='Top Teams')\n",
    "plt.legend(frameon=False, loc=2)\n",
    "\n",
    "plt.xlabel('Component 1 Score')\n",
    "\n",
    "plt.savefig('component1.pdf')"
   ]
  },
  {
   "cell_type": "code",
   "execution_count": 19,
   "metadata": {},
   "outputs": [
    {
     "name": "stdout",
     "output_type": "stream",
     "text": [
      "(0.0097540493705600365, -0.010077182509204663)\n"
     ]
    }
   ],
   "source": [
    "low_mean = np.mean(sorted_scores[:top])\n",
    "high_mean = np.mean(sorted_scores[256 - top:])\n",
    "print(low_mean, high_mean)"
   ]
  },
  {
   "cell_type": "code",
   "execution_count": 20,
   "metadata": {},
   "outputs": [],
   "source": [
    "from scipy.stats import ttest_ind"
   ]
  },
  {
   "cell_type": "code",
   "execution_count": 21,
   "metadata": {},
   "outputs": [
    {
     "data": {
      "text/plain": [
       "Ttest_indResult(statistic=3.5195475840246671, pvalue=0.00065744335662761509)"
      ]
     },
     "execution_count": 21,
     "metadata": {},
     "output_type": "execute_result"
    }
   ],
   "source": [
    "ttest_ind(sorted_scores[:top], sorted_scores[256-top:])"
   ]
  },
  {
   "cell_type": "code",
   "execution_count": 22,
   "metadata": {},
   "outputs": [
    {
     "name": "stdout",
     "output_type": "stream",
     "text": [
      "(-0.0066605470749721259, 0.001826000983337831)\n"
     ]
    },
    {
     "data": {
      "text/plain": [
       "Ttest_indResult(statistic=-1.6926422296190444, pvalue=0.093700553261369626)"
      ]
     },
     "execution_count": 22,
     "metadata": {},
     "output_type": "execute_result"
    },
    {
     "data": {
      "image/png": "[encoded data removed]",
      "text/plain": [
       "<matplotlib.figure.Figure at 0x7f1adac1ef50>"
      ]
     },
     "metadata": {},
     "output_type": "display_data"
    }
   ],
   "source": [
    "plt.figure(figsize=(7,10))\n",
    "x = 1\n",
    "top = 50\n",
    "bins = np.arange(-.10, .11, .01)\n",
    "\n",
    "plt.subplot(311)\n",
    "plt.yticks(np.arange(0, 50, 10))\n",
    "\n",
    "plt.hist(scores[x, :], bins=bins, color='b',label='All Teams')\n",
    "\n",
    "plt.legend(frameon=False, loc=2)\n",
    "\n",
    "\n",
    "sorted_scores = scores[x, :]\n",
    "plt.subplot(312)\n",
    "plt.yticks(np.arange(0, 10, 2))\n",
    "\n",
    "lowest = plt.hist(sorted_scores[:top], alpha=1, bins=bins, color='b', label=\"Bottom Teams\")\n",
    "plt.legend(frameon=False, loc=2)\n",
    "\n",
    "plt.subplot(313)\n",
    "plt.yticks(np.arange(0, 10, 2))\n",
    "highest = plt.hist(sorted_scores[256-top:], alpha=1, bins=bins, color='b', label='Top Teams')\n",
    "plt.legend(frameon=False, loc=2)\n",
    "\n",
    "plt.xlabel('Component 2 Score')\n",
    "\n",
    "plt.savefig('component2.pdf')\n",
    "low_mean = np.mean(sorted_scores[:top])\n",
    "high_mean = np.mean(sorted_scores[256 - top:])\n",
    "print(low_mean, high_mean)\n",
    "ttest_ind(sorted_scores[:top], sorted_scores[256-top:])"
   ]
  }
 ],
 "metadata": {
  "kernelspec": {
   "display_name": "Python 2",
   "language": "python",
   "name": "python2"
  },
  "language_info": {
   "codemirror_mode": {
    "name": "ipython",
    "version": 2
   },
   "file_extension": ".py",
   "mimetype": "text/x-python",
   "name": "python",
   "nbconvert_exporter": "python",
   "pygments_lexer": "ipython2",
   "version": "2.7.9"
  }
 },
 "nbformat": 4,
 "nbformat_minor": 2
}
